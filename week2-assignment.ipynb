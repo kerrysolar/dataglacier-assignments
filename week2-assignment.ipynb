{
 "cells": [
  {
   "cell_type": "code",
   "execution_count": 92,
   "id": "b0bbd0d8",
   "metadata": {},
   "outputs": [],
   "source": [
    "import pandas as pd\n",
    "import matplotlib.pyplot as plt\n",
    "import seaborn as sns"
   ]
  },
  {
   "cell_type": "code",
   "execution_count": 4,
   "id": "c92b59e1",
   "metadata": {},
   "outputs": [],
   "source": [
    "# Read the CSV files\n",
    "cab_data = pd.read_csv('/Users/haoyuechang/Downloads/DataSets-main/Cab_Data.csv')\n",
    "customer_id = pd.read_csv('/Users/haoyuechang/Downloads/DataSets-main/Customer_ID.csv')\n",
    "transaction_id = pd.read_csv('/Users/haoyuechang/Downloads/DataSets-main/Transaction_ID.csv')\n",
    "city = pd.read_csv('/Users/haoyuechang/Downloads/DataSets-main/City.csv')"
   ]
  },
  {
   "cell_type": "code",
   "execution_count": 10,
   "id": "c6b63af1",
   "metadata": {},
   "outputs": [
    {
     "name": "stdout",
     "output_type": "stream",
     "text": [
      "Cab_Data columns: Index(['Transaction ID', 'Date of Travel', 'Company', 'City', 'KM Travelled',\n",
      "       'Price Charged', 'Cost of Trip'],\n",
      "      dtype='object')\n",
      "Customer_ID columns: Index(['Customer ID', 'Gender', 'Age', 'Income (USD/Month)'], dtype='object')\n",
      "Transaction_ID columns: Index(['Transaction ID', 'Customer ID', 'Payment_Mode'], dtype='object')\n",
      "City columns: Index(['City', 'Population', 'Users'], dtype='object')\n"
     ]
    }
   ],
   "source": [
    "\n",
    "# Display the column names in each DataFrame\n",
    "print(\"Cab_Data columns:\", cab_data.columns)\n",
    "print(\"Customer_ID columns:\", customer_id.columns)\n",
    "print(\"Transaction_ID columns:\", transaction_id.columns)\n",
    "print(\"City columns:\", city.columns)\n",
    "\n"
   ]
  },
  {
   "cell_type": "code",
   "execution_count": 19,
   "id": "7e49016a",
   "metadata": {},
   "outputs": [
    {
     "name": "stdout",
     "output_type": "stream",
     "text": [
      "<class 'pandas.core.frame.DataFrame'>\n",
      "RangeIndex: 359392 entries, 0 to 359391\n",
      "Data columns (total 7 columns):\n",
      " #   Column          Non-Null Count   Dtype  \n",
      "---  ------          --------------   -----  \n",
      " 0   Transaction ID  359392 non-null  int64  \n",
      " 1   Date of Travel  359392 non-null  int64  \n",
      " 2   Company         359392 non-null  object \n",
      " 3   City            359392 non-null  object \n",
      " 4   KM Travelled    359392 non-null  float64\n",
      " 5   Price Charged   359392 non-null  float64\n",
      " 6   Cost of Trip    359392 non-null  float64\n",
      "dtypes: float64(3), int64(2), object(2)\n",
      "memory usage: 19.2+ MB\n",
      "<class 'pandas.core.frame.DataFrame'>\n",
      "RangeIndex: 49171 entries, 0 to 49170\n",
      "Data columns (total 4 columns):\n",
      " #   Column              Non-Null Count  Dtype \n",
      "---  ------              --------------  ----- \n",
      " 0   Customer ID         49171 non-null  int64 \n",
      " 1   Gender              49171 non-null  object\n",
      " 2   Age                 49171 non-null  int64 \n",
      " 3   Income (USD/Month)  49171 non-null  int64 \n",
      "dtypes: int64(3), object(1)\n",
      "memory usage: 1.5+ MB\n",
      "<class 'pandas.core.frame.DataFrame'>\n",
      "RangeIndex: 440098 entries, 0 to 440097\n",
      "Data columns (total 3 columns):\n",
      " #   Column          Non-Null Count   Dtype \n",
      "---  ------          --------------   ----- \n",
      " 0   Transaction ID  440098 non-null  int64 \n",
      " 1   Customer ID     440098 non-null  int64 \n",
      " 2   Payment_Mode    440098 non-null  object\n",
      "dtypes: int64(2), object(1)\n",
      "memory usage: 10.1+ MB\n",
      "<class 'pandas.core.frame.DataFrame'>\n",
      "RangeIndex: 20 entries, 0 to 19\n",
      "Data columns (total 3 columns):\n",
      " #   Column      Non-Null Count  Dtype \n",
      "---  ------      --------------  ----- \n",
      " 0   City        20 non-null     object\n",
      " 1   Population  20 non-null     object\n",
      " 2   Users       20 non-null     object\n",
      "dtypes: object(3)\n",
      "memory usage: 608.0+ bytes\n"
     ]
    }
   ],
   "source": [
    "#Understand data types\n",
    "cab_data.info()\n",
    "customer_id.info()\n",
    "transaction_id.info()\n",
    "city.info()\n",
    "#cab_data:7 columns and 359392 rows,float64(3), int64(2), object(2);\n",
    "#customer_id:4 columns, 49171 rows, int64(3), object(1)\n",
    "#transaction_id:3 columns, 440098 rows, int64(2), object(1)\n",
    "#city:3 columns, 20 rows, object(3)"
   ]
  },
  {
   "cell_type": "code",
   "execution_count": 30,
   "id": "7bfd1eac",
   "metadata": {},
   "outputs": [
    {
     "data": {
      "text/plain": [
       "Transaction ID    0\n",
       "Date of Travel    0\n",
       "Company           0\n",
       "City              0\n",
       "KM Travelled      0\n",
       "Price Charged     0\n",
       "Cost of Trip      0\n",
       "dtype: int64"
      ]
     },
     "execution_count": 30,
     "metadata": {},
     "output_type": "execute_result"
    }
   ],
   "source": [
    "#missing values checking\n",
    "cab_data.isnull().sum()\n",
    "#no missing values"
   ]
  },
  {
   "cell_type": "code",
   "execution_count": 31,
   "id": "cb624f5e",
   "metadata": {},
   "outputs": [
    {
     "data": {
      "text/plain": [
       "Customer ID           0\n",
       "Gender                0\n",
       "Age                   0\n",
       "Income (USD/Month)    0\n",
       "dtype: int64"
      ]
     },
     "execution_count": 31,
     "metadata": {},
     "output_type": "execute_result"
    }
   ],
   "source": [
    "customer_id.isnull().sum()\n",
    "#no missing values"
   ]
  },
  {
   "cell_type": "code",
   "execution_count": 32,
   "id": "9c379ffd",
   "metadata": {},
   "outputs": [
    {
     "data": {
      "text/plain": [
       "Transaction ID    0\n",
       "Customer ID       0\n",
       "Payment_Mode      0\n",
       "dtype: int64"
      ]
     },
     "execution_count": 32,
     "metadata": {},
     "output_type": "execute_result"
    }
   ],
   "source": [
    "transaction_id.isnull().sum()\n",
    "#no missing values"
   ]
  },
  {
   "cell_type": "code",
   "execution_count": 33,
   "id": "d17ed654",
   "metadata": {},
   "outputs": [
    {
     "data": {
      "text/plain": [
       "City          0\n",
       "Population    0\n",
       "Users         0\n",
       "dtype: int64"
      ]
     },
     "execution_count": 33,
     "metadata": {},
     "output_type": "execute_result"
    }
   ],
   "source": [
    "city.isnull().sum()\n",
    "#no missing values"
   ]
  },
  {
   "cell_type": "code",
   "execution_count": 39,
   "id": "b489963c",
   "metadata": {},
   "outputs": [],
   "source": [
    "#Identify and handle any duplicate records in the datasets\n",
    "duplicates1 = cab_data.duplicated()\n",
    "duplicate_rows1 = cab_data[duplicates1]\n",
    "cab_data.drop_duplicates(inplace=True)"
   ]
  },
  {
   "cell_type": "code",
   "execution_count": 43,
   "id": "75ff5a3a",
   "metadata": {},
   "outputs": [],
   "source": [
    "duplicates2 = customer_id.duplicated(subset=['Customer ID'])\n",
    "duplicate_rows2 = customer_id[duplicates2]\n",
    "customer_id.drop_duplicates(inplace=True)"
   ]
  },
  {
   "cell_type": "code",
   "execution_count": 46,
   "id": "7f119ba5",
   "metadata": {},
   "outputs": [],
   "source": [
    "duplicates3 = transaction_id.duplicated()\n",
    "duplicate_rows3 = transaction_id[duplicates3]\n",
    "transaction_id.drop_duplicates(inplace=True)"
   ]
  },
  {
   "cell_type": "code",
   "execution_count": 47,
   "id": "c76a0a11",
   "metadata": {},
   "outputs": [],
   "source": [
    "duplicates4 = city.duplicated()\n",
    "duplicate_rows4 = city[duplicates4]\n",
    "city.drop_duplicates(inplace=True)"
   ]
  },
  {
   "cell_type": "code",
   "execution_count": 51,
   "id": "a30ce296",
   "metadata": {},
   "outputs": [
    {
     "name": "stdout",
     "output_type": "stream",
     "text": [
      "   Transaction ID  Customer ID Payment_Mode Gender  Age  Income (USD/Month)  \\\n",
      "0        10000011        29290         Card   Male   28               10813   \n",
      "1        10351127        29290         Cash   Male   28               10813   \n",
      "2        10412921        29290         Card   Male   28               10813   \n",
      "3        10000012        27703         Card   Male   27                9237   \n",
      "4        10320494        27703         Card   Male   27                9237   \n",
      "\n",
      "   Date of Travel     Company        City  KM Travelled  Price Charged  \\\n",
      "0           42377    Pink Cab  ATLANTA GA         30.45         370.95   \n",
      "1           43302  Yellow Cab  ATLANTA GA         26.19         598.70   \n",
      "2           43427  Yellow Cab  ATLANTA GA         42.55         792.05   \n",
      "3           42375    Pink Cab  ATLANTA GA         28.62         358.52   \n",
      "4           43211  Yellow Cab  ATLANTA GA         36.38         721.10   \n",
      "\n",
      "   Cost of Trip Population     Users  \n",
      "0      313.6350   814,885    24,701   \n",
      "1      317.4228   814,885    24,701   \n",
      "2      597.4020   814,885    24,701   \n",
      "3      334.8540   814,885    24,701   \n",
      "4      467.1192   814,885    24,701   \n"
     ]
    }
   ],
   "source": [
    "#merge the data\n",
    "import pandas as pd\n",
    "\n",
    "# Load the datasets into DataFrames\n",
    "\n",
    "# Merge Transaction_Id.csv with Customer_ID.csv\n",
    "merged_df_1 = pd.merge(transaction_id, customer_id, on='Customer ID')\n",
    "\n",
    "# Merge the data with Cab_data.csv\n",
    "merged_df_2 = pd.merge(merged_df_1, cab_data, on='Transaction ID')\n",
    "\n",
    "# Merge data with City.csv\n",
    "merged_df_3 = pd.merge(merged_df_2, city, on='City')\n",
    "\n",
    "# View the resulting merged dataset\n",
    "print(merged_df_3.head())"
   ]
  },
  {
   "cell_type": "code",
   "execution_count": 99,
   "id": "d5fe5da4",
   "metadata": {},
   "outputs": [
    {
     "name": "stdout",
     "output_type": "stream",
     "text": [
      "<class 'pandas.core.frame.DataFrame'>\n",
      "Int64Index: 359392 entries, 0 to 359391\n",
      "Data columns (total 15 columns):\n",
      " #   Column              Non-Null Count   Dtype  \n",
      "---  ------              --------------   -----  \n",
      " 0   Transaction ID      359392 non-null  int64  \n",
      " 1   Customer ID         359392 non-null  int64  \n",
      " 2   Payment_Mode        359392 non-null  object \n",
      " 3   Gender              359392 non-null  object \n",
      " 4   Age                 359392 non-null  int64  \n",
      " 5   Income (USD/Month)  359392 non-null  int64  \n",
      " 6   Date of Travel      359392 non-null  int64  \n",
      " 7   Company             359392 non-null  object \n",
      " 8   City                359392 non-null  object \n",
      " 9   KM Travelled        359392 non-null  float64\n",
      " 10  Price Charged       359392 non-null  float64\n",
      " 11  Cost of Trip        359392 non-null  float64\n",
      " 12  Population          359392 non-null  object \n",
      " 13  Users               359392 non-null  object \n",
      " 14  Profit              359392 non-null  float64\n",
      "dtypes: float64(4), int64(5), object(6)\n",
      "memory usage: 43.9+ MB\n"
     ]
    }
   ],
   "source": [
    "merged_df_3.info()"
   ]
  },
  {
   "cell_type": "code",
   "execution_count": 61,
   "id": "3184c76e",
   "metadata": {},
   "outputs": [
    {
     "data": {
      "image/png": "[encoded data removed]",
      "text/plain": [
       "<Figure size 432x288 with 1 Axes>"
      ]
     },
     "metadata": {
      "needs_background": "light"
     },
     "output_type": "display_data"
    }
   ],
   "source": [
    "#EDA\n",
    "\n",
    "# Create a histogram of a age column\n",
    "plt.hist(merged_df_3['Age'], bins=10)\n",
    "plt.xlabel('Age')\n",
    "plt.ylabel('Frequency')\n",
    "plt.title('Histogram of Age')\n",
    "plt.show()\n",
    "#High frequency among young people"
   ]
  },
  {
   "cell_type": "code",
   "execution_count": 66,
   "id": "2f108a77",
   "metadata": {},
   "outputs": [],
   "source": [
    "merged_df_3['Profit'] = merged_df_3['Price Charged'] - merged_df_3['Cost of Trip']"
   ]
  },
  {
   "cell_type": "code",
   "execution_count": 74,
   "id": "74cf2ec3",
   "metadata": {},
   "outputs": [
    {
     "data": {
      "image/png": "[encoded data removed]",
      "text/plain": [
       "<Figure size 432x288 with 1 Axes>"
      ]
     },
     "metadata": {
      "needs_background": "light"
     },
     "output_type": "display_data"
    },
    {
     "data": {
      "image/png": "[encoded data removed]",
      "text/plain": [
       "<Figure size 432x288 with 1 Axes>"
      ]
     },
     "metadata": {
      "needs_background": "light"
     },
     "output_type": "display_data"
    }
   ],
   "source": [
    "# How does Income Class wise Profit and customer base?\n",
    "Analysis\n",
    "income_class_profit = merged_df_3.groupby('Income (USD/Month)')['Profit'].sum()\n",
    "income_class_customer_base = merged_df_3.groupby('Income (USD/Month)')['Customer ID'].nunique()\n",
    "\n",
    "# Bar plot for profit by income class\n",
    "plt.bar(income_class_profit.index, income_class_profit)\n",
    "plt.xlabel('Income Class')\n",
    "plt.ylabel('Profit')\n",
    "plt.title('Profit by Income Class')\n",
    "plt.show()\n",
    "\n",
    "# Bar plot for customer base by income class\n",
    "plt.bar(income_class_customer_base.index, income_class_customer_base)\n",
    "plt.xlabel('Income Class')\n",
    "plt.ylabel('Customer Base')\n",
    "plt.title('Customer Base by Income Class')\n",
    "plt.show()\n"
   ]
  },
  {
   "cell_type": "markdown",
   "id": "66672e59",
   "metadata": {},
   "source": [
    "Middle class and high class contributes more in the profit and in the customer base"
   ]
  },
  {
   "cell_type": "markdown",
   "id": "b3fcf0d9",
   "metadata": {},
   "source": [
    "### Hypothesis\n"
   ]
  },
  {
   "cell_type": "code",
   "execution_count": 76,
   "id": "1c14e54b",
   "metadata": {},
   "outputs": [
    {
     "data": {
      "image/png": "[encoded data removed]",
      "text/plain": [
       "<Figure size 432x288 with 1 Axes>"
      ]
     },
     "metadata": {
      "needs_background": "light"
     },
     "output_type": "display_data"
    }
   ],
   "source": [
    "### Hypothesis 1: Profitability varies based on the cab company.\n",
    "\n",
    "## Calculate total profit by cab company\n",
    "profit_by_company = merged_df_3.groupby('Company')['Profit'].sum()\n",
    "\n",
    "# Bar plot for profit by cab company\n",
    "plt.bar(profit_by_company.index, profit_by_company)\n",
    "plt.xlabel('Cab Company')\n",
    "plt.ylabel('Profit')\n",
    "plt.title('Profit by Cab Company')\n",
    "plt.show()\n",
    "# Profitability varies based on the cab company is correct"
   ]
  },
  {
   "cell_type": "code",
   "execution_count": 79,
   "id": "1a166b76",
   "metadata": {},
   "outputs": [
    {
     "data": {
      "image/png": "[encoded data removed]",
      "text/plain": [
       "<Figure size 432x288 with 1 Axes>"
      ]
     },
     "metadata": {
      "needs_background": "light"
     },
     "output_type": "display_data"
    }
   ],
   "source": [
    "###Hypothesis 2: Customer demographics impact cab usage.\n",
    "# Merge customer demographics with cab usage data\n",
    "\n",
    "# Calculate cab usage count by age group\n",
    "cab_usage_by_age_group = merged_df_3.groupby('Age')['Transaction ID'].count()\n",
    "\n",
    "# Bar plot for cab usage by age group\n",
    "plt.bar(cab_usage_by_age_group.index, cab_usage_by_age_group)\n",
    "plt.xlabel('Age Group')\n",
    "plt.ylabel('Cab Usage Count')\n",
    "plt.title('Cab Usage by Age Group')\n",
    "plt.show()\n",
    "#Customer demographics impact cab usage is correct, yourgers are likely to use more cab usage."
   ]
  },
  {
   "cell_type": "code",
   "execution_count": 87,
   "id": "82626e60",
   "metadata": {},
   "outputs": [
    {
     "data": {
      "image/png": "[encoded data removed]",
      "text/plain": [
       "<Figure size 432x288 with 1 Axes>"
      ]
     },
     "metadata": {
      "needs_background": "light"
     },
     "output_type": "display_data"
    },
    {
     "data": {
      "text/plain": [
       "<Figure size 720x1440 with 0 Axes>"
      ]
     },
     "metadata": {},
     "output_type": "display_data"
    }
   ],
   "source": [
    "#Hypothesis 3: Average Profit per cab user is by city population\n",
    "# Calculate average profit per cab user by city population\n",
    "profit_per_user_by_population = merged_df_3.groupby('Population')['Profit'].mean()\n",
    "\n",
    "# Scatter plot for average profit per cab user by city population\n",
    "plt.scatter(merged_df_3['Population'], merged_df_3['Profit'])\n",
    "plt.xlabel('City Population')\n",
    "plt.ylabel('Profit per Cab User')\n",
    "plt.title('Average Profit per Cab User by City Population')\n",
    "plt.figure(figsize=(10, 20))\n",
    "plt.show()\n",
    "\n"
   ]
  },
  {
   "cell_type": "code",
   "execution_count": null,
   "id": "8b95d7e1",
   "metadata": {},
   "outputs": [],
   "source": [
    "#Cab demand varies seasonally, with higher demand during certain months or seasons."
   ]
  },
  {
   "cell_type": "code",
   "execution_count": 88,
   "id": "bbcda8cf",
   "metadata": {},
   "outputs": [
    {
     "data": {
      "image/png": "[encoded data removed]",
      "text/plain": [
       "<Figure size 432x288 with 1 Axes>"
      ]
     },
     "metadata": {},
     "output_type": "display_data"
    }
   ],
   "source": [
    "#Hypothesis 4: per cab user by customer gender\n",
    "\n",
    "# Calculate the count of cab rides by customer gender\n",
    "rides_by_gender = merged_df_3['Gender'].value_counts()\n",
    "\n",
    "# Pie chart for cab rides by customer gender\n",
    "plt.pie(rides_by_gender, labels=rides_by_gender.index, autopct='%1.1f%%')\n",
    "plt.title('Cab Rides by Customer Gender')\n",
    "plt.show()\n"
   ]
  },
  {
   "cell_type": "code",
   "execution_count": 96,
   "id": "959735c0",
   "metadata": {},
   "outputs": [
    {
     "data": {
      "image/png": "[encoded data removed]",
      "text/plain": [
       "<Figure size 432x288 with 1 Axes>"
      ]
     },
     "metadata": {
      "needs_background": "light"
     },
     "output_type": "display_data"
    }
   ],
   "source": [
    "#Hypothesis 5: Customer analysis based on ride distance\n",
    "\n",
    "# Calculate average ride distance by customer\n",
    "avg_ride_distance_by_customer = merged_df_3.groupby('Customer ID')['KM Travelled'].mean()\n",
    "\n",
    "# Plot distribution of ride distances\n",
    "plt.hist(merged_df_3['KM Travelled'], bins=20)\n",
    "plt.xlabel('Ride Distance')\n",
    "plt.ylabel('Frequency')\n",
    "plt.title('Distribution of Ride Distances')\n",
    "plt.show()\n",
    "# we can gain an understanding of the spread and concentration of ride distances"
   ]
  },
  {
   "cell_type": "code",
   "execution_count": null,
   "id": "33b84ba6",
   "metadata": {},
   "outputs": [],
   "source": []
  }
 ],
 "metadata": {
  "kernelspec": {
   "display_name": "Python 3 (ipykernel)",
   "language": "python",
   "name": "python3"
  },
  "language_info": {
   "codemirror_mode": {
    "name": "ipython",
    "version": 3
   },
   "file_extension": ".py",
   "mimetype": "text/x-python",
   "name": "python",
   "nbconvert_exporter": "python",
   "pygments_lexer": "ipython3",
   "version": "3.9.7"
  }
 },
 "nbformat": 4,
 "nbformat_minor": 5
}
