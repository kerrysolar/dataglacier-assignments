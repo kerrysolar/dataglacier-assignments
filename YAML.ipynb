{
 "cells": [
  {
   "cell_type": "code",
   "execution_count": 2,
   "id": "ef6fa818",
   "metadata": {},
   "outputs": [],
   "source": [
    "import pandas as pd\n",
    "import matplotlib.pyplot as plt\n",
    "import seaborn as sns"
   ]
  },
  {
   "cell_type": "code",
   "execution_count": 3,
   "id": "90454747",
   "metadata": {},
   "outputs": [],
   "source": [
    "#read csv\n",
    "df=pd.read_csv(\"/Users/haoyuechang/Desktop/yellow_tripdata_2015-01.csv\")"
   ]
  },
  {
   "cell_type": "code",
   "execution_count": 4,
   "id": "2e64d86a",
   "metadata": {},
   "outputs": [],
   "source": [
    "import dask.dataframe as dd\n",
    "\n",
    "df = dd.read_csv(\"/Users/haoyuechang/Desktop/yellow_tripdata_2015-01.csv\")\n"
   ]
  },
  {
   "cell_type": "code",
   "execution_count": 5,
   "id": "fbe38492",
   "metadata": {},
   "outputs": [],
   "source": [
    "import re\n",
    "\n",
    "# Remove special characters and white spaces from column names\n",
    "df.columns = [re.sub(r'\\W+', '_', col.strip()) for col in df.columns]\n"
   ]
  },
  {
   "cell_type": "code",
   "execution_count": 6,
   "id": "07f26a79",
   "metadata": {},
   "outputs": [],
   "source": [
    "import yaml\n",
    "\n",
    "# Define the column names\n",
    "column_names = df.columns.tolist()\n",
    "\n",
    "# Write the column names to the YAML file\n",
    "with open('schema.yaml', 'w') as f:\n",
    "    yaml.dump(column_names, f)\n"
   ]
  },
  {
   "cell_type": "code",
   "execution_count": 7,
   "id": "5cbad056",
   "metadata": {},
   "outputs": [],
   "source": [
    "import yaml\n",
    "\n",
    "# Read the YAML file\n",
    "with open('schema.yaml', 'r') as f:\n",
    "    schema = yaml.safe_load(f)\n",
    "\n",
    "# Validate number of columns\n",
    "if len(df.columns) != len(schema):\n",
    "    print(\"Number of columns does not match the schema.\")\n",
    "\n",
    "# Validate column names\n",
    "if set(df.columns) != set(schema):\n",
    "    print(\"Column names do not match the schema.\")\n"
   ]
  },
  {
   "cell_type": "code",
   "execution_count": 9,
   "id": "fbeb6688",
   "metadata": {},
   "outputs": [
    {
     "data": {
      "text/plain": [
       "['/Users/haoyuechang/Desktop/data glasier/output.txt.gz/00.part',\n",
       " '/Users/haoyuechang/Desktop/data glasier/output.txt.gz/01.part',\n",
       " '/Users/haoyuechang/Desktop/data glasier/output.txt.gz/02.part',\n",
       " '/Users/haoyuechang/Desktop/data glasier/output.txt.gz/03.part',\n",
       " '/Users/haoyuechang/Desktop/data glasier/output.txt.gz/04.part',\n",
       " '/Users/haoyuechang/Desktop/data glasier/output.txt.gz/05.part',\n",
       " '/Users/haoyuechang/Desktop/data glasier/output.txt.gz/06.part',\n",
       " '/Users/haoyuechang/Desktop/data glasier/output.txt.gz/07.part',\n",
       " '/Users/haoyuechang/Desktop/data glasier/output.txt.gz/08.part',\n",
       " '/Users/haoyuechang/Desktop/data glasier/output.txt.gz/09.part',\n",
       " '/Users/haoyuechang/Desktop/data glasier/output.txt.gz/10.part',\n",
       " '/Users/haoyuechang/Desktop/data glasier/output.txt.gz/11.part',\n",
       " '/Users/haoyuechang/Desktop/data glasier/output.txt.gz/12.part',\n",
       " '/Users/haoyuechang/Desktop/data glasier/output.txt.gz/13.part',\n",
       " '/Users/haoyuechang/Desktop/data glasier/output.txt.gz/14.part',\n",
       " '/Users/haoyuechang/Desktop/data glasier/output.txt.gz/15.part',\n",
       " '/Users/haoyuechang/Desktop/data glasier/output.txt.gz/16.part',\n",
       " '/Users/haoyuechang/Desktop/data glasier/output.txt.gz/17.part',\n",
       " '/Users/haoyuechang/Desktop/data glasier/output.txt.gz/18.part',\n",
       " '/Users/haoyuechang/Desktop/data glasier/output.txt.gz/19.part',\n",
       " '/Users/haoyuechang/Desktop/data glasier/output.txt.gz/20.part',\n",
       " '/Users/haoyuechang/Desktop/data glasier/output.txt.gz/21.part',\n",
       " '/Users/haoyuechang/Desktop/data glasier/output.txt.gz/22.part',\n",
       " '/Users/haoyuechang/Desktop/data glasier/output.txt.gz/23.part',\n",
       " '/Users/haoyuechang/Desktop/data glasier/output.txt.gz/24.part',\n",
       " '/Users/haoyuechang/Desktop/data glasier/output.txt.gz/25.part',\n",
       " '/Users/haoyuechang/Desktop/data glasier/output.txt.gz/26.part',\n",
       " '/Users/haoyuechang/Desktop/data glasier/output.txt.gz/27.part',\n",
       " '/Users/haoyuechang/Desktop/data glasier/output.txt.gz/28.part',\n",
       " '/Users/haoyuechang/Desktop/data glasier/output.txt.gz/29.part',\n",
       " '/Users/haoyuechang/Desktop/data glasier/output.txt.gz/30.part',\n",
       " '/Users/haoyuechang/Desktop/data glasier/output.txt.gz/31.part']"
      ]
     },
     "execution_count": 9,
     "metadata": {},
     "output_type": "execute_result"
    }
   ],
   "source": [
    "df.to_csv('output.txt.gz', sep='|', compression='gzip', index=False)"
   ]
  },
  {
   "cell_type": "code",
   "execution_count": 10,
   "id": "ae76b29b",
   "metadata": {},
   "outputs": [
    {
     "name": "stdout",
     "output_type": "stream",
     "text": [
      "Total number of rows: 12748986\n",
      "Total number of columns: 19\n",
      "File size: 1088 bytes\n"
     ]
    }
   ],
   "source": [
    "import os\n",
    "\n",
    "# Total number of rows\n",
    "num_rows = len(df)\n",
    "\n",
    "# Total number of columns\n",
    "num_columns = len(df.columns)\n",
    "\n",
    "# File size\n",
    "file_size = os.path.getsize('output.txt.gz')\n",
    "\n",
    "# Print the summary\n",
    "print(\"Total number of rows:\", num_rows)\n",
    "print(\"Total number of columns:\", num_columns)\n",
    "print(\"File size:\", file_size, \"bytes\")\n"
   ]
  },
  {
   "cell_type": "code",
   "execution_count": null,
   "id": "5d3d40d6",
   "metadata": {},
   "outputs": [],
   "source": []
  }
 ],
 "metadata": {
  "kernelspec": {
   "display_name": "Python 3 (ipykernel)",
   "language": "python",
   "name": "python3"
  },
  "language_info": {
   "codemirror_mode": {
    "name": "ipython",
    "version": 3
   },
   "file_extension": ".py",
   "mimetype": "text/x-python",
   "name": "python",
   "nbconvert_exporter": "python",
   "pygments_lexer": "ipython3",
   "version": "3.9.7"
  }
 },
 "nbformat": 4,
 "nbformat_minor": 5
}
