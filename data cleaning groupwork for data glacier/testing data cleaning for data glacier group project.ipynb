{
 "cells": [
  {
   "cell_type": "code",
   "execution_count": null,
   "metadata": {},
   "outputs": [],
   "source": [
    "import pandas as pd\n",
    "import numpy as np"
   ]
  },
  {
   "cell_type": "code",
   "execution_count": null,
   "metadata": {},
   "outputs": [],
   "source": [
    "age=data['age']\n",
    "age_mean=age.mean()\n",
    "age_std=age.std()\n",
    "age_lower=age_mean - 3*age_std\n",
    "age_upper=age_mean + 3*age_std\n",
    "age_outliers=age[(age<age_lower)|(age>age_upper)]\n",
    "print(age_outliers)\n",
    "print(age_mean) #39\n",
    "print(age.median())\n",
    "print(age_lower) \n",
    "print(age_upper) "
   ]
  },
  {
   "cell_type": "code",
   "execution_count": null,
   "metadata": {},
   "outputs": [],
   "source": [
    "age1 = age._get_numeric_data()\n",
    "age1[age1 >89]=39\n",
    "age1[age1 < -9]=39\n",
    "print(age1)\n",
    "print(age[916]) \n",
    "print(age[910]) "
   ]
  },
  {
   "cell_type": "code",
   "execution_count": null,
   "metadata": {},
   "outputs": [],
   "source": [
    "antiguedad=data['antiguedad']\n",
    "antiguedad_mean=antiguedad.mean()\n",
    "antiguedad_std=antiguedad.std()\n",
    "antiguedad_lower=antiguedad_mean - 3*antiguedad_std\n",
    "antiguedad_upper=antiguedad_mean + 3*antiguedad_std\n",
    "antiguedad_outliers=antiguedad[(antiguedad<antiguedad_lower)|(antiguedad>antiguedad_upper)]\n",
    "\n",
    "print(antiguedad_outliers)\n",
    "print(antiguedad_mean) \n",
    "print(antiguedad.median())\n",
    "print(antiguedad_lower) \n",
    "print(antiguedad_upper) "
   ]
  },
  {
   "cell_type": "code",
   "execution_count": null,
   "metadata": {},
   "outputs": [],
   "source": [
    "antiguedad1 = antiguedad._get_numeric_data()\n",
    "antiguedad1[antiguedad1 >5471]=66\n",
    "antiguedad1[antiguedad1 < -5315]=66\n",
    "print(antiguedad1)\n",
    "print(antiguedad[675528]) \n",
    "print(antiguedad[734648]) "
   ]
  },
  {
   "cell_type": "code",
   "execution_count": null,
   "metadata": {},
   "outputs": [],
   "source": [
    "cod_prov=data['cod_prov']\n",
    "cod_prov_mean=cod_prov.mean()\n",
    "cod_prov_std=cod_prov.std()\n",
    "cod_prov_lower=cod_prov_mean - 3*cod_prov_std\n",
    "cod_prov_upper=cod_prov_mean + 3*cod_prov_std\n",
    "cod_prov_outliers=cod_prov[(cod_prov<cod_prov_lower)|(cod_prov>cod_prov_upper)]\n",
    "print(cod_prov_outliers)\n",
    "print(cod_prov_mean) \n",
    "print(cod_prov.median())\n",
    "print(cod_prov_lower) \n",
    "print(cod_prov_upper)"
   ]
  },
  {
   "cell_type": "code",
   "execution_count": null,
   "metadata": {},
   "outputs": [],
   "source": [
    "cod_prov1 = cod_prov._get_numeric_data()\n",
    "cod_prov1[cod_prov1 >65]=27\n",
    "cod_prov1[cod_prov1 < -11]=27\n",
    "print(cod_prov1)\n"
   ]
  },
  {
   "cell_type": "code",
   "execution_count": null,
   "metadata": {},
   "outputs": [],
   "source": [
    "renta=data['renta']\n",
    "renta1 = renta._get_numeric_data()\n",
    "renta1[renta1 >297949]=105525\n",
    "renta1[renta1 < -65366]=105525\n",
    "print(renta1)\n",
    "print(renta)"
   ]
  }
 ],
 "metadata": {
  "kernelspec": {
   "display_name": "Python 3 (ipykernel)",
   "language": "python",
   "name": "python3"
  },
  "language_info": {
   "codemirror_mode": {
    "name": "ipython",
    "version": 3
   },
   "file_extension": ".py",
   "mimetype": "text/x-python",
   "name": "python",
   "nbconvert_exporter": "python",
   "pygments_lexer": "ipython3",
   "version": "3.9.7"
  }
 },
 "nbformat": 4,
 "nbformat_minor": 2
}
